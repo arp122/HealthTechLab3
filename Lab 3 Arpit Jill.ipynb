{
 "cells": [
  {
   "cell_type": "code",
   "execution_count": 9,
   "metadata": {
    "collapsed": false
   },
   "outputs": [],
   "source": [
    "import matplotlib.pyplot as plt\n",
    "import pandas as pd\n",
    "import numpy as np\n",
    "import json\n",
    "import plotly.plotly as py\n",
    "import plotly.graph_objs as go\n",
    "import time\n",
    "import pytz\n",
    "from datetime import datetime\n",
    "py.sign_in('subhangi', '')\n",
    "%matplotlib inline"
   ]
  },
  {
   "cell_type": "code",
   "execution_count": 10,
   "metadata": {
    "collapsed": false
   },
   "outputs": [],
   "source": [
    "with open('/Users/arpitsabherwal/Desktop/2016-10-01 October 2016 to December 2016.json',encoding='utf-8') as data_file:    \n",
    "    data_search = json.load(data_file)"
   ]
  },
  {
   "cell_type": "code",
   "execution_count": 11,
   "metadata": {
    "collapsed": true
   },
   "outputs": [],
   "source": [
    "with open('/Users/arpitsabherwal/Desktop/2017-01-01 January 2017 to March 2017.json',encoding='utf-8') as data_file:    \n",
    "    data_search_jan = json.load(data_file)"
   ]
  },
  {
   "cell_type": "code",
   "execution_count": 12,
   "metadata": {
    "collapsed": true
   },
   "outputs": [],
   "source": [
    "with open('/Users/arpitsabherwal/Desktop/apple_steps.json',encoding='utf-8') as data_file:    \n",
    "    data_steps = json.load(data_file)"
   ]
  },
  {
   "cell_type": "code",
   "execution_count": 13,
   "metadata": {
    "collapsed": true
   },
   "outputs": [],
   "source": [
    "with open('/Users/arpitsabherwal/Desktop/watch-history.json',encoding='utf-8') as data_file:    \n",
    "    data_youtube = json.load(data_file)"
   ]
  },
  {
   "cell_type": "code",
   "execution_count": 188,
   "metadata": {
    "collapsed": true
   },
   "outputs": [],
   "source": [
    "server_timezone = pytz.timezone('UTC')\n",
    "new_timezone = pytz.timezone(\"America/New_York\")"
   ]
  },
  {
   "cell_type": "code",
   "execution_count": 229,
   "metadata": {
    "collapsed": false
   },
   "outputs": [],
   "source": [
    "def plot_individual_data(x,y):\n",
    "    y_temp_val=np.argsort(np.array(x))\n",
    "    x=sorted(x)\n",
    "    \n",
    "    y_new_array=[]\n",
    "    \n",
    "    for i in range(len(y)):\n",
    "        y_new_array.append(y[y_temp_val[i]])\n",
    "    \n",
    "    data = [go.Scatter(x=x, y=y_new_array,mode = 'lines+markers',name='Search Query')]\n",
    "    #py.iplot(data) # This plot depicts users steps\n",
    "    return x,y_new_array,data\n",
    "    \n",
    "def plot_step_search(start_time,stop_time):\n",
    "    x_search_time=np.arange(start_time,stop_time,1000)\n",
    "    x_search_time=x_search_time.tolist()\n",
    "    \n",
    "    x_step_time=np.arange(start_time,stop_time,1000)\n",
    "    x_step_time=x_step_time.tolist()\n",
    "    \n",
    "    \n",
    "    y_search_true=[]\n",
    "    for i in range(len(x_search_time)):\n",
    "        x_search_time[i]=server_timezone.localize(datetime.fromtimestamp(x_search_time[i])).astimezone(new_timezone)\n",
    "        y_search_true.append(0)\n",
    "    \n",
    "    y_step=[]\n",
    "    for i in range(len(x_step_time)):\n",
    "        x_step_time[i]=server_timezone.localize(datetime.fromtimestamp(x_step_time[i])).astimezone(new_timezone)\n",
    "        y_step.append(0)\n",
    "        \n",
    "        \n",
    "    start_time_date = server_timezone.localize(datetime.fromtimestamp(start_time)).astimezone(new_timezone) \n",
    "    stop_time_date = server_timezone.localize(datetime.fromtimestamp(stop_time)).astimezone(new_timezone)\n",
    "    \n",
    "    for i in range(len(data_search[\"event\"])):\n",
    "        temp_time=(float(data_search[\"event\"][i][\"query\"][\"id\"][0][\"timestamp_usec\"])/1000000)\n",
    "        temp_time_date = server_timezone.localize(datetime.fromtimestamp(temp_time)).astimezone(new_timezone) \n",
    "        if temp_time_date>start_time_date and temp_time_date<stop_time_date:\n",
    "            x_search_time.append(temp_time_date)\n",
    "            y_search_true.append(500)\n",
    "\n",
    "    for i in range(len(data_search_jan[\"event\"])):\n",
    "        temp_time=(float(data_search_jan[\"event\"][i][\"query\"][\"id\"][0][\"timestamp_usec\"])/1000000)\n",
    "        temp_time_date = server_timezone.localize(datetime.fromtimestamp(temp_time)).astimezone(new_timezone) \n",
    "        if temp_time_date>start_time_date and temp_time_date<stop_time_date:\n",
    "            x_search_time.append(temp_time_date)\n",
    "            y_search_true.append(500)\n",
    "    \n",
    "    x_search,new_y_val_search,search_data=plot_individual_data(x_search_time,y_search_true)\n",
    "    \n",
    "    for i in range(len(data_steps[\"HealthData\"][\"Record\"])):\n",
    "        if data_steps[\"HealthData\"][\"Record\"][i][\"-type\"]==\"HKQuantityTypeIdentifierStepCount\":\n",
    "            temp_time=time.mktime(datetime.strptime(data_steps[\"HealthData\"][\"Record\"][i][\"-startDate\"][:-6], \"%Y-%m-%d %H:%M:%S\").timetuple())\n",
    "            temp_time_date = server_timezone.localize(datetime.fromtimestamp(temp_time)).astimezone(new_timezone) \n",
    "            if temp_time_date>start_time_date and temp_time_date<stop_time_date:\n",
    "                x_step_time.append(temp_time_date)\n",
    "                y_step.append(int(data_steps[\"HealthData\"][\"Record\"][i][\"-value\"]))\n",
    "                #y_step.append(1)\n",
    "    \n",
    "    x_step,new_y_val_step,step_data=plot_individual_data(x_step_time,y_step)\n",
    "    \n",
    "    combined_data=[go.Scatter(x=x_step, y=new_y_val_step,mode = 'lines+markers',name='Number of Steps'),go.Scatter(x=x_search, y=new_y_val_search,mode = 'lines+markers',name='Search Query')]\n",
    "    return search_data,step_data,combined_data\n",
    "    \n",
    "    \n",
    "    "
   ]
  },
  {
   "cell_type": "code",
   "execution_count": 255,
   "metadata": {
    "collapsed": false
   },
   "outputs": [],
   "source": [
    "search_data,step_data,combined_data=plot_step_search(1489507200,1489593600) # To plot the graph for different dates"
   ]
  },
  {
   "cell_type": "code",
   "execution_count": 256,
   "metadata": {
    "collapsed": false,
    "scrolled": false
   },
   "outputs": [
    {
     "data": {
      "text/html": [
       "<iframe id=\"igraph\" scrolling=\"no\" style=\"border:none;\" seamless=\"seamless\" src=\"https://plot.ly/~subhangi/92.embed\" height=\"525px\" width=\"100%\"></iframe>"
      ],
      "text/plain": [
       "<plotly.tools.PlotlyDisplay object>"
      ]
     },
     "execution_count": 256,
     "metadata": {},
     "output_type": "execute_result"
    }
   ],
   "source": [
    "py.iplot(combined_data)"
   ]
  },
  {
   "cell_type": "code",
   "execution_count": 112,
   "metadata": {
    "collapsed": true
   },
   "outputs": [],
   "source": [
    "step_time={}"
   ]
  },
  {
   "cell_type": "code",
   "execution_count": 113,
   "metadata": {
    "collapsed": false
   },
   "outputs": [],
   "source": [
    "for i in range(len(data_steps[\"HealthData\"][\"Record\"])):\n",
    "    if data_steps[\"HealthData\"][\"Record\"][i][\"-type\"]==\"HKQuantityTypeIdentifierStepCount\":\n",
    "        temp_time=time.mktime(datetime.strptime(data_steps[\"HealthData\"][\"Record\"][i][\"-endDate\"][:-6], \"%Y-%m-%d %H:%M:%S\").timetuple())\n",
    "        temp_time_date = server_timezone.localize(datetime.fromtimestamp(temp_time)).astimezone(new_timezone) \n",
    "        temp_time=datetime.timestamp(temp_time_date)\n",
    "        step_time[temp_time]=int(data_steps[\"HealthData\"][\"Record\"][i][\"-value\"])"
   ]
  },
  {
   "cell_type": "code",
   "execution_count": 114,
   "metadata": {
    "collapsed": true
   },
   "outputs": [],
   "source": [
    "import collections\n",
    "step_time = collections.OrderedDict(sorted(step_time.items()))"
   ]
  },
  {
   "cell_type": "code",
   "execution_count": 115,
   "metadata": {
    "collapsed": false
   },
   "outputs": [
    {
     "data": {
      "text/plain": [
       "7"
      ]
     },
     "execution_count": 115,
     "metadata": {},
     "output_type": "execute_result"
    }
   ],
   "source": [
    "step_time.pop(1475184463.0)\n",
    "step_time.pop(1475184848.0)"
   ]
  },
  {
   "cell_type": "code",
   "execution_count": 116,
   "metadata": {
    "collapsed": true
   },
   "outputs": [],
   "source": [
    "date=1478232000 # 4 November 2016"
   ]
  },
  {
   "cell_type": "code",
   "execution_count": 117,
   "metadata": {
    "collapsed": true
   },
   "outputs": [],
   "source": [
    "step_date={}"
   ]
  },
  {
   "cell_type": "code",
   "execution_count": 118,
   "metadata": {
    "collapsed": false
   },
   "outputs": [],
   "source": [
    "date=1478232000 # 4 November 2016\n",
    "step_count=0\n",
    "for key, value in step_time.items():\n",
    "    if float(key)>=float(date) and float(key)<float(date+86400):\n",
    "        step_count=step_count+value\n",
    "    else:\n",
    "        step_date[date]=step_count\n",
    "        date=date+86400\n",
    "        step_count=value"
   ]
  },
  {
   "cell_type": "code",
   "execution_count": 119,
   "metadata": {
    "collapsed": false
   },
   "outputs": [],
   "source": [
    "step_date = collections.OrderedDict(sorted(step_date.items()))"
   ]
  },
  {
   "cell_type": "code",
   "execution_count": 120,
   "metadata": {
    "collapsed": true
   },
   "outputs": [],
   "source": [
    "x_step_date=[]\n",
    "y_no_steps=[]\n",
    "for key, value in step_date.items():\n",
    "    x_step_date.append(datetime.fromtimestamp(key))\n",
    "    y_no_steps.append(value)"
   ]
  },
  {
   "cell_type": "code",
   "execution_count": 121,
   "metadata": {
    "collapsed": true
   },
   "outputs": [],
   "source": [
    "data_step_date = [go.Scatter(x=x_step_date, y=y_no_steps,mode = 'lines+markers',name='Steps in a day')]"
   ]
  },
  {
   "cell_type": "code",
   "execution_count": 122,
   "metadata": {
    "collapsed": false
   },
   "outputs": [
    {
     "data": {
      "text/html": [
       "<iframe id=\"igraph\" scrolling=\"no\" style=\"border:none;\" seamless=\"seamless\" src=\"https://plot.ly/~subhangi/40.embed\" height=\"525px\" width=\"100%\"></iframe>"
      ],
      "text/plain": [
       "<plotly.tools.PlotlyDisplay object>"
      ]
     },
     "execution_count": 122,
     "metadata": {},
     "output_type": "execute_result"
    }
   ],
   "source": [
    "py.iplot(data_step_date) # step count for each dayvarious months"
   ]
  },
  {
   "cell_type": "code",
   "execution_count": 128,
   "metadata": {
    "collapsed": true
   },
   "outputs": [],
   "source": [
    "search_time={}"
   ]
  },
  {
   "cell_type": "code",
   "execution_count": 129,
   "metadata": {
    "collapsed": true
   },
   "outputs": [],
   "source": [
    "for i in range(len(data_search[\"event\"])):\n",
    "    temp_time=int(float(data_search[\"event\"][i][\"query\"][\"id\"][0][\"timestamp_usec\"])/1000000)\n",
    "    temp_time_date = server_timezone.localize(datetime.fromtimestamp(temp_time)).astimezone(new_timezone) \n",
    "    temp_time=datetime.timestamp(temp_time_date)\n",
    "    search_time[temp_time]=500"
   ]
  },
  {
   "cell_type": "code",
   "execution_count": 130,
   "metadata": {
    "collapsed": true
   },
   "outputs": [],
   "source": [
    "for i in range(len(data_search_jan[\"event\"])):\n",
    "    temp_time=int(float(data_search_jan[\"event\"][i][\"query\"][\"id\"][0][\"timestamp_usec\"])/1000000)\n",
    "    temp_time_date = server_timezone.localize(datetime.fromtimestamp(temp_time)).astimezone(new_timezone) \n",
    "    temp_time=datetime.timestamp(temp_time_date)\n",
    "    search_time[temp_time]=500"
   ]
  },
  {
   "cell_type": "code",
   "execution_count": 131,
   "metadata": {
    "collapsed": true
   },
   "outputs": [],
   "source": [
    "import collections\n",
    "search_time = collections.OrderedDict(sorted(search_time.items()))"
   ]
  },
  {
   "cell_type": "code",
   "execution_count": 132,
   "metadata": {
    "collapsed": true
   },
   "outputs": [],
   "source": [
    "search_start_date=1475294400 # 1st Oct 2016"
   ]
  },
  {
   "cell_type": "code",
   "execution_count": 133,
   "metadata": {
    "collapsed": true
   },
   "outputs": [],
   "source": [
    "search_date={}"
   ]
  },
  {
   "cell_type": "code",
   "execution_count": 134,
   "metadata": {
    "collapsed": false
   },
   "outputs": [],
   "source": [
    "search_count=0\n",
    "for key, value in search_time.items():\n",
    "    if float(key)>=float(search_start_date) and float(key)<float(search_start_date+86400):\n",
    "        search_count=search_count+1\n",
    "    else:\n",
    "        search_date[search_start_date]=search_count\n",
    "        search_start_date=search_start_date+86400\n",
    "        search_count=0\n",
    "        "
   ]
  },
  {
   "cell_type": "code",
   "execution_count": 135,
   "metadata": {
    "collapsed": false
   },
   "outputs": [],
   "source": [
    "search_date = collections.OrderedDict(sorted(search_date.items()))"
   ]
  },
  {
   "cell_type": "code",
   "execution_count": 136,
   "metadata": {
    "collapsed": true
   },
   "outputs": [],
   "source": [
    "x_search_date=[]\n",
    "y_no_search=[]\n",
    "for key, value in search_date.items():\n",
    "    x_search_date.append(datetime.fromtimestamp(key))\n",
    "    y_no_search.append(value)"
   ]
  },
  {
   "cell_type": "code",
   "execution_count": 137,
   "metadata": {
    "collapsed": true
   },
   "outputs": [],
   "source": [
    "data_search_date = [go.Scatter(x=x_search_date, y=y_no_search,mode = 'lines+markers',name='Searches in a day')]"
   ]
  },
  {
   "cell_type": "code",
   "execution_count": 138,
   "metadata": {
    "collapsed": false,
    "scrolled": false
   },
   "outputs": [
    {
     "data": {
      "text/html": [
       "<iframe id=\"igraph\" scrolling=\"no\" style=\"border:none;\" seamless=\"seamless\" src=\"https://plot.ly/~subhangi/42.embed\" height=\"525px\" width=\"100%\"></iframe>"
      ],
      "text/plain": [
       "<plotly.tools.PlotlyDisplay object>"
      ]
     },
     "execution_count": 138,
     "metadata": {},
     "output_type": "execute_result"
    }
   ],
   "source": [
    "py.iplot(data_search_date) # search count for each dayvarious months"
   ]
  },
  {
   "cell_type": "code",
   "execution_count": 199,
   "metadata": {
    "collapsed": true
   },
   "outputs": [],
   "source": [
    "step_search_each_date={}"
   ]
  },
  {
   "cell_type": "code",
   "execution_count": 200,
   "metadata": {
    "collapsed": false
   },
   "outputs": [],
   "source": [
    "for key, value in step_date.items():\n",
    "    try:\n",
    "        step_search_each_date[key]=[step_date[key],search_date[key]]\n",
    "    except KeyError:\n",
    "        break"
   ]
  },
  {
   "cell_type": "code",
   "execution_count": 201,
   "metadata": {
    "collapsed": true
   },
   "outputs": [],
   "source": [
    "step_search_each_date = collections.OrderedDict(sorted(step_search_each_date.items()))"
   ]
  },
  {
   "cell_type": "code",
   "execution_count": 202,
   "metadata": {
    "collapsed": true
   },
   "outputs": [],
   "source": [
    "import csv\n",
    "\n",
    "with open('data_step_search.csv', 'w') as csvfile:\n",
    "    fieldnames = ['date', 'step','search']\n",
    "    writer = csv.DictWriter(csvfile, fieldnames=fieldnames)\n",
    "\n",
    "    writer.writeheader()\n",
    "    for key, value in step_search_each_date.items():    \n",
    "        writer.writerow({'date': str(datetime.fromtimestamp(key)), 'step': step_date[key],'search':search_date[key]})"
   ]
  },
  {
   "cell_type": "code",
   "execution_count": null,
   "metadata": {
    "collapsed": true
   },
   "outputs": [],
   "source": []
  }
 ],
 "metadata": {
  "anaconda-cloud": {},
  "kernelspec": {
   "display_name": "Python [conda root]",
   "language": "python",
   "name": "conda-root-py"
  },
  "language_info": {
   "codemirror_mode": {
    "name": "ipython",
    "version": 3
   },
   "file_extension": ".py",
   "mimetype": "text/x-python",
   "name": "python",
   "nbconvert_exporter": "python",
   "pygments_lexer": "ipython3",
   "version": "3.5.2"
  }
 },
 "nbformat": 4,
 "nbformat_minor": 1
}
